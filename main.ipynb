{
 "cells": [
  {
   "cell_type": "code",
   "id": "initial_id",
   "metadata": {
    "collapsed": true,
    "ExecuteTime": {
     "end_time": "2024-12-21T23:37:22.125031Z",
     "start_time": "2024-12-21T23:37:22.121849Z"
    }
   },
   "source": [
    "import pandas as pd\n",
    "from statsmodels.stats import power\n",
    "from statsmodels.stats.proportion import (proportion_effectsize,\n",
    "                                          proportions_ztest,\n",
    "                                          proportion_confint)\n",
    "from scipy.stats import mannwhitneyu\n",
    "from scipy.stats import shapiro\n",
    "from scipy.stats import norm\n",
    "from scipy.stats import t"
   ],
   "outputs": [],
   "execution_count": 20
  },
  {
   "metadata": {
    "ExecuteTime": {
     "end_time": "2024-12-21T23:21:44.161634Z",
     "start_time": "2024-12-21T23:21:44.012083Z"
    }
   },
   "cell_type": "code",
   "source": "data = pd.read_csv('data/marketing_AB.csv')",
   "id": "5d5e37b828736ac3",
   "outputs": [],
   "execution_count": 2
  },
  {
   "metadata": {},
   "cell_type": "markdown",
   "source": [
    "## Проанализируйте структуру данных и проведите их предобработку:\n",
    "#### Исследуйте структуру данных;"
   ],
   "id": "7c225ff4c54b528d"
  },
  {
   "metadata": {
    "ExecuteTime": {
     "end_time": "2024-12-21T23:21:44.279505Z",
     "start_time": "2024-12-21T23:21:44.162360Z"
    }
   },
   "cell_type": "code",
   "source": [
    "# Просмотр первых строк данных\n",
    "print(\"Первые 5 строк данных\")\n",
    "print(data.head())\n",
    "\n",
    "# Описание структуры данных\n",
    "print(\"Структура данных\")\n",
    "print(data.info())\n",
    "\n",
    "print(\"Статистика по числовым столбцам\")\n",
    "print(data.describe())\n",
    "\n",
    "print(\"Проверка наличия дубликатов\")\n",
    "\n",
    "print(data.nunique())"
   ],
   "id": "84be31d5d5db2306",
   "outputs": [
    {
     "name": "stdout",
     "output_type": "stream",
     "text": [
      "Первые 5 строк данных\n",
      "   Unnamed: 0  user id test group  converted  total ads most ads day  \\\n",
      "0           0  1069124         ad      False        130       Monday   \n",
      "1           1  1119715         ad      False         93      Tuesday   \n",
      "2           2  1144181         ad      False         21      Tuesday   \n",
      "3           3  1435133         ad      False        355      Tuesday   \n",
      "4           4  1015700         ad      False        276       Friday   \n",
      "\n",
      "   most ads hour  \n",
      "0             20  \n",
      "1             22  \n",
      "2             18  \n",
      "3             10  \n",
      "4             14  \n",
      "Структура данных\n",
      "<class 'pandas.core.frame.DataFrame'>\n",
      "RangeIndex: 588101 entries, 0 to 588100\n",
      "Data columns (total 7 columns):\n",
      " #   Column         Non-Null Count   Dtype \n",
      "---  ------         --------------   ----- \n",
      " 0   Unnamed: 0     588101 non-null  int64 \n",
      " 1   user id        588101 non-null  int64 \n",
      " 2   test group     588101 non-null  object\n",
      " 3   converted      588101 non-null  bool  \n",
      " 4   total ads      588101 non-null  int64 \n",
      " 5   most ads day   588101 non-null  object\n",
      " 6   most ads hour  588101 non-null  int64 \n",
      "dtypes: bool(1), int64(4), object(2)\n",
      "memory usage: 27.5+ MB\n",
      "None\n",
      "Статистика по числовым столбцам\n",
      "          Unnamed: 0       user id      total ads  most ads hour\n",
      "count  588101.000000  5.881010e+05  588101.000000  588101.000000\n",
      "mean   294050.000000  1.310692e+06      24.820876      14.469061\n",
      "std    169770.279668  2.022260e+05      43.715181       4.834634\n",
      "min         0.000000  9.000000e+05       1.000000       0.000000\n",
      "25%    147025.000000  1.143190e+06       4.000000      11.000000\n",
      "50%    294050.000000  1.313725e+06      13.000000      14.000000\n",
      "75%    441075.000000  1.484088e+06      27.000000      18.000000\n",
      "max    588100.000000  1.654483e+06    2065.000000      23.000000\n",
      "Проверка наличия дубликатов\n",
      "Unnamed: 0       588101\n",
      "user id          588101\n",
      "test group            2\n",
      "converted             2\n",
      "total ads           807\n",
      "most ads day          7\n",
      "most ads hour        24\n",
      "dtype: int64\n"
     ]
    }
   ],
   "execution_count": 3
  },
  {
   "metadata": {},
   "cell_type": "markdown",
   "source": [
    "#### Преобразуйте столбцы к необходимым типам данных.\n",
    "\n",
    "Заметим, что столбцы 'test group' и 'most ads day' имеют тип данных object, хотя они являются категориальными. Преобразуем их к типу category.\n"
   ],
   "id": "7fc5acfd4a7dc3ab"
  },
  {
   "metadata": {
    "ExecuteTime": {
     "end_time": "2024-12-21T23:21:44.327681Z",
     "start_time": "2024-12-21T23:21:44.280909Z"
    }
   },
   "cell_type": "code",
   "source": [
    "data['test group'] = data['test group'].astype('category')\n",
    "data['most ads day'] =data['most ads day'].astype('category')\n",
    "data.info()"
   ],
   "id": "b643b70dae9b7e5a",
   "outputs": [
    {
     "name": "stdout",
     "output_type": "stream",
     "text": [
      "<class 'pandas.core.frame.DataFrame'>\n",
      "RangeIndex: 588101 entries, 0 to 588100\n",
      "Data columns (total 7 columns):\n",
      " #   Column         Non-Null Count   Dtype   \n",
      "---  ------         --------------   -----   \n",
      " 0   Unnamed: 0     588101 non-null  int64   \n",
      " 1   user id        588101 non-null  int64   \n",
      " 2   test group     588101 non-null  category\n",
      " 3   converted      588101 non-null  bool    \n",
      " 4   total ads      588101 non-null  int64   \n",
      " 5   most ads day   588101 non-null  category\n",
      " 6   most ads hour  588101 non-null  int64   \n",
      "dtypes: bool(1), category(2), int64(4)\n",
      "memory usage: 19.6 MB\n"
     ]
    }
   ],
   "execution_count": 4
  },
  {
   "metadata": {},
   "cell_type": "markdown",
   "source": "#### Проверьте данные на наличие пропусков и избавьтесь от них, если нужно.",
   "id": "72086a1828558d5e"
  },
  {
   "metadata": {
    "ExecuteTime": {
     "end_time": "2024-12-21T23:21:44.332476Z",
     "start_time": "2024-12-21T23:21:44.328397Z"
    }
   },
   "cell_type": "code",
   "source": [
    "# Проверка на пропуски\n",
    "print(\"Количество пропусков в данных\")\n",
    "print(data.isnull().sum())\n",
    "\n"
   ],
   "id": "b4481b46c20cf8a5",
   "outputs": [
    {
     "name": "stdout",
     "output_type": "stream",
     "text": [
      "Количество пропусков в данных\n",
      "Unnamed: 0       0\n",
      "user id          0\n",
      "test group       0\n",
      "converted        0\n",
      "total ads        0\n",
      "most ads day     0\n",
      "most ads hour    0\n",
      "dtype: int64\n"
     ]
    }
   ],
   "execution_count": 5
  },
  {
   "metadata": {},
   "cell_type": "markdown",
   "source": [
    "**Вывод**: пропусков в данных нет\n",
    "\n",
    "#### Проверьте, есть ли пользователи, которые в процессе A/Bтеста попали в обе группы. Если да, исключите пользователей, оказавшихся в обеих группах."
   ],
   "id": "543fd2ed435e2f93"
  },
  {
   "metadata": {
    "ExecuteTime": {
     "end_time": "2024-12-21T23:21:44.438994Z",
     "start_time": "2024-12-21T23:21:44.333220Z"
    }
   },
   "cell_type": "code",
   "source": [
    "# Найти пользователей, которые присутствуют в обеих группах\n",
    "overlap_users = data.groupby('user id')['test group'].nunique()\n",
    "overlap_users = overlap_users[overlap_users > 1].index\n",
    "print(\"Пользователи, которые попали в обе группы\")\n",
    "print(overlap_users)"
   ],
   "id": "e74095efed9ec7d3",
   "outputs": [
    {
     "name": "stdout",
     "output_type": "stream",
     "text": [
      "Пользователи, которые попали в обе группы\n",
      "Index([], dtype='int64', name='user id')\n"
     ]
    }
   ],
   "execution_count": 6
  },
  {
   "metadata": {},
   "cell_type": "markdown",
   "source": "Вывод: пользователи, которые попали в обе группы, отсутствуют",
   "id": "4e1a6452a894245a"
  },
  {
   "metadata": {},
   "cell_type": "markdown",
   "source": [
    "## Сделайте первичный анализ результатов A/B-тестирования\n",
    "#### Рассчитайте вспомогательные показатели для контрольной и тестовой групп:\n",
    "\n",
    "- количество посещений сайта;\n",
    "- суммарное количество совершённых покупок;\n",
    "\n",
    "Сделайте промежуточные выводы по построенной таблице. Сопоставимо ли количество посещений обоих вариантов посадочной страницы? Можно ли говорить о сбалансированности выборок?"
   ],
   "id": "74ef645dae2426a5"
  },
  {
   "metadata": {
    "ExecuteTime": {
     "end_time": "2024-12-21T23:21:44.466734Z",
     "start_time": "2024-12-21T23:21:44.439821Z"
    }
   },
   "cell_type": "code",
   "source": [
    "# Группировка данных по тестовой группе\n",
    "grouped_data = data.groupby('test group', observed=False).agg(\n",
    "    total_visits=('total ads', 'sum'),  # Суммарное количество посещений сайта (увиденной рекламы)\n",
    "    total_purchases=('converted', 'sum'),  # Суммарное количество покупок (True = 1, False = 0)\n",
    "    total_users=('user id', 'nunique')  # Количество уникальных пользователей\n",
    ")\n",
    "\n",
    "# Вывод результатов\n",
    "print(grouped_data)\n",
    "\n"
   ],
   "id": "447a3a4c63c470a2",
   "outputs": [
    {
     "name": "stdout",
     "output_type": "stream",
     "text": [
      "            total_visits  total_purchases  total_users\n",
      "test group                                            \n",
      "ad              14014701            14423       564577\n",
      "psa               582481              420        23524\n"
     ]
    }
   ],
   "execution_count": 7
  },
  {
   "metadata": {},
   "cell_type": "markdown",
   "source": "**Вывод**: Количество рекламы, увиденной из группы ad составляет 14014701, а из группы psa - 582481, суммарное количество покупок для группы ad - 14423 против 403 для psa. Если говорить о сбалансированности выборок, то можно сделать вывод, что выборки не сбалансированы, так как количество посещений сайта и суммарное количество покупок в группе ad значительно больше, чем в группе psa. Но для для корректного анализа необходимо рассчитать ключевые показатели для обеих групп - конверсия и среднее количество рекламы, увиденной пользователем.",
   "id": "e75d57bdf312adaf"
  },
  {
   "metadata": {},
   "cell_type": "markdown",
   "source": [
    "#### В каждой из групп рассчитайте ключевые показатели:\n",
    "\n",
    "- конверсия;\n",
    "- среднее количество рекламы, увиденной пользователем.\n",
    "\n",
    "Сделайте первичные выводы о результатах A/B-тестирования на основе показателей конверсии и среднего количества увиденной рекламы в каждой из групп. По какому(-им) показателю(-ям), на первый взгляд, вариант А эффективнее варианта B и наоборот?\n",
    "\n"
   ],
   "id": "346343d064a1adb9"
  },
  {
   "metadata": {
    "ExecuteTime": {
     "end_time": "2024-12-21T23:21:44.470920Z",
     "start_time": "2024-12-21T23:21:44.467527Z"
    }
   },
   "cell_type": "code",
   "source": [
    "# Расчет ключевых показателей\n",
    "\n",
    "# Конверсия - количество покупок/количество рекламы, увиденной пользователем\n",
    "\n",
    "\n",
    "grouped_data['conversion'] = ((grouped_data['total_purchases'] * 100)/ grouped_data['total_users']).round(2)\n",
    "\n",
    "\n",
    "# Среднее количество рекламы, увиденной пользователем \n",
    "\n",
    "grouped_data['average_ads'] = grouped_data['total_visits'] / grouped_data['total_users']\n",
    "\n",
    "\n",
    "\n",
    "print(grouped_data)\n",
    "\n",
    "\n"
   ],
   "id": "dc3e695641b3073c",
   "outputs": [
    {
     "name": "stdout",
     "output_type": "stream",
     "text": [
      "            total_visits  total_purchases  total_users  conversion  \\\n",
      "test group                                                           \n",
      "ad              14014701            14423       564577        2.55   \n",
      "psa               582481              420        23524        1.79   \n",
      "\n",
      "            average_ads  \n",
      "test group               \n",
      "ad            24.823365  \n",
      "psa           24.761138  \n"
     ]
    }
   ],
   "execution_count": 8
  },
  {
   "metadata": {},
   "cell_type": "markdown",
   "source": "Вывод: группа \"ad\" показала значительно лучшие результаты по всем ключевым показателям: большему количеству посещений, покупок и более высокой конверсии. Это свидетельствует о том, что рекламная стратегия в группе \"ad\" была более успешной по сравнению с группой \"psa\".",
   "id": "dfbb17b7566ebc0d"
  },
  {
   "metadata": {
    "ExecuteTime": {
     "end_time": "2024-12-21T23:21:44.490786Z",
     "start_time": "2024-12-21T23:21:44.471576Z"
    }
   },
   "cell_type": "code",
   "source": [
    "daily_data = data.groupby(['most ads day','test group'], observed=False).agg({\n",
    "    'user id':'count',\n",
    "    'converted':'sum'\n",
    "}).reset_index().rename(columns={'user id': 'users_count'})\n",
    "daily_data['conversion']=daily_data['converted']*100/daily_data['users_count']\n",
    "daily_data['conversion']=daily_data['conversion'].round(2)\n",
    "\n",
    "daily_data.sort_values(by='most ads day', ascending=True)\n",
    "conversion_piv = daily_data.groupby('test group', observed=False)['conversion'].agg(\n",
    "    ['mean', 'median']\n",
    ")\n",
    "display(conversion_piv)"
   ],
   "id": "a49e05bf681057cd",
   "outputs": [
    {
     "data": {
      "text/plain": [
       "                mean  median\n",
       "test group                  \n",
       "ad          2.557143    2.46\n",
       "psa         1.770000    1.63"
      ],
      "text/html": [
       "<div>\n",
       "<style scoped>\n",
       "    .dataframe tbody tr th:only-of-type {\n",
       "        vertical-align: middle;\n",
       "    }\n",
       "\n",
       "    .dataframe tbody tr th {\n",
       "        vertical-align: top;\n",
       "    }\n",
       "\n",
       "    .dataframe thead th {\n",
       "        text-align: right;\n",
       "    }\n",
       "</style>\n",
       "<table border=\"1\" class=\"dataframe\">\n",
       "  <thead>\n",
       "    <tr style=\"text-align: right;\">\n",
       "      <th></th>\n",
       "      <th>mean</th>\n",
       "      <th>median</th>\n",
       "    </tr>\n",
       "    <tr>\n",
       "      <th>test group</th>\n",
       "      <th></th>\n",
       "      <th></th>\n",
       "    </tr>\n",
       "  </thead>\n",
       "  <tbody>\n",
       "    <tr>\n",
       "      <th>ad</th>\n",
       "      <td>2.557143</td>\n",
       "      <td>2.46</td>\n",
       "    </tr>\n",
       "    <tr>\n",
       "      <th>psa</th>\n",
       "      <td>1.770000</td>\n",
       "      <td>1.63</td>\n",
       "    </tr>\n",
       "  </tbody>\n",
       "</table>\n",
       "</div>"
      ]
     },
     "metadata": {},
     "output_type": "display_data"
    }
   ],
   "execution_count": 9
  },
  {
   "metadata": {},
   "cell_type": "markdown",
   "source": [
    "## Проведите статистический анализ результатов A/B-тестирования\n",
    "Сформулируйте статистические гипотезы, соответствующие поставленным бизнес-вопросам, и выберите статистический тест для их проверки.\n",
    "\n",
    "Не забудьте проверить данные на нормальность там, где это необходимо.\n",
    "\n",
    "С помощью аппарата статистических тестов определите:\n",
    "\n",
    "Есть ли статистическая разница между конверсиями в группах А и B?\n",
    "\n",
    "Есть ли статистическая разница между средними количествами увиденной рекламы в группах А и B?"
   ],
   "id": "fe3e62402e3df73e"
  },
  {
   "metadata": {},
   "cell_type": "markdown",
   "source": [
    "\n",
    "**Нулевая гипотеза (H0)**: Конверсия пользователей, увидевших рекламу (группа \"ad\"), не отличается от конверсии пользователей, увидевших объявления государственной службы (группа \"psa\").  \n",
    " H0: p_(ad) = pₚₛₐ \n",
    "\n",
    "**Альтернативная гипотеза (H1)**: Конверсия пользователей, увидевших рекламу (группа \"ad\"), выше, чем у пользователей, увидевших объявления государственной службы (группа \"psa\")\n",
    "\n",
    "Так как мы сравниваем две пропорции (конверсии) из независимых выборок (группы \"ad\" и \"psa\"), целесообразно использовать Z-тест для пропорций. Этот тест подходит, когда:\n",
    "\n",
    "- Данные представляют собой бинарные исходы (покупка или нет).\n",
    "\n",
    "- Выборки достаточно велики (обычно n > 30).\n",
    "\n",
    "- Мы предполагаем, что данные распределены нормально."
   ],
   "id": "7b2b2bd2811006c9"
  },
  {
   "metadata": {
    "ExecuteTime": {
     "end_time": "2024-12-21T23:21:44.498098Z",
     "start_time": "2024-12-21T23:21:44.492734Z"
    }
   },
   "cell_type": "code",
   "source": [
    "# Сбалансируем выборки\n",
    "p_control = conversion_piv.loc['psa','mean']/100\n",
    "p_treatment = conversion_piv.loc['ad','mean']/100\n",
    "\n",
    "effect_size = proportion_effectsize(p_control, p_treatment)\n",
    "\n",
    "alpha = 0.05\n",
    "beta = 0.2\n",
    "\n",
    "size_sample = power.NormalIndPower().solve_power(effect_size=effect_size, alpha=alpha, power=1-beta, ratio=1)\n",
    "\n",
    "print(f'Размер выборки: {size_sample:.0f}')\n"
   ],
   "id": "fa6fe0e47d684273",
   "outputs": [
    {
     "name": "stdout",
     "output_type": "stream",
     "text": [
      "Размер выборки: 5319\n"
     ]
    }
   ],
   "execution_count": 10
  },
  {
   "metadata": {
    "ExecuteTime": {
     "end_time": "2024-12-21T23:21:44.521255Z",
     "start_time": "2024-12-21T23:21:44.498688Z"
    }
   },
   "cell_type": "code",
   "source": [
    "# Сформируем выборки\n",
    "control_sample = data[data['test group'] == 'psa'].sample(n=int(size_sample), random_state=0)\n",
    "treatment_sample = data[data['test group'] == 'ad'].sample(n=int(size_sample), random_state=0)\n",
    "\n",
    "# Объединим выборки\n",
    "sample = pd.concat([control_sample, treatment_sample], axis=0)\n",
    "sample"
   ],
   "id": "67af9e007ee1750d",
   "outputs": [
    {
     "data": {
      "text/plain": [
       "        Unnamed: 0  user id test group  converted  total ads most ads day  \\\n",
       "68544        68544   922723        psa       True         30      Tuesday   \n",
       "572632      572632   903370        psa      False         24     Saturday   \n",
       "579324      579324   901579        psa      False          2       Monday   \n",
       "72528        72528   923298        psa      False         54     Saturday   \n",
       "512269      512269   904742        psa      False          2     Thursday   \n",
       "...            ...      ...        ...        ...        ...          ...   \n",
       "334332      334332  1484523         ad      False          3       Friday   \n",
       "200429      200429  1650565         ad      False         29    Wednesday   \n",
       "526897      526897  1042502         ad      False         33       Monday   \n",
       "422945      422945  1083716         ad      False          9     Thursday   \n",
       "151524      151524  1543208         ad      False         12       Friday   \n",
       "\n",
       "        most ads hour  \n",
       "68544              14  \n",
       "572632             11  \n",
       "579324              7  \n",
       "72528              17  \n",
       "512269             13  \n",
       "...               ...  \n",
       "334332             11  \n",
       "200429             19  \n",
       "526897             10  \n",
       "422945             22  \n",
       "151524             21  \n",
       "\n",
       "[10636 rows x 7 columns]"
      ],
      "text/html": [
       "<div>\n",
       "<style scoped>\n",
       "    .dataframe tbody tr th:only-of-type {\n",
       "        vertical-align: middle;\n",
       "    }\n",
       "\n",
       "    .dataframe tbody tr th {\n",
       "        vertical-align: top;\n",
       "    }\n",
       "\n",
       "    .dataframe thead th {\n",
       "        text-align: right;\n",
       "    }\n",
       "</style>\n",
       "<table border=\"1\" class=\"dataframe\">\n",
       "  <thead>\n",
       "    <tr style=\"text-align: right;\">\n",
       "      <th></th>\n",
       "      <th>Unnamed: 0</th>\n",
       "      <th>user id</th>\n",
       "      <th>test group</th>\n",
       "      <th>converted</th>\n",
       "      <th>total ads</th>\n",
       "      <th>most ads day</th>\n",
       "      <th>most ads hour</th>\n",
       "    </tr>\n",
       "  </thead>\n",
       "  <tbody>\n",
       "    <tr>\n",
       "      <th>68544</th>\n",
       "      <td>68544</td>\n",
       "      <td>922723</td>\n",
       "      <td>psa</td>\n",
       "      <td>True</td>\n",
       "      <td>30</td>\n",
       "      <td>Tuesday</td>\n",
       "      <td>14</td>\n",
       "    </tr>\n",
       "    <tr>\n",
       "      <th>572632</th>\n",
       "      <td>572632</td>\n",
       "      <td>903370</td>\n",
       "      <td>psa</td>\n",
       "      <td>False</td>\n",
       "      <td>24</td>\n",
       "      <td>Saturday</td>\n",
       "      <td>11</td>\n",
       "    </tr>\n",
       "    <tr>\n",
       "      <th>579324</th>\n",
       "      <td>579324</td>\n",
       "      <td>901579</td>\n",
       "      <td>psa</td>\n",
       "      <td>False</td>\n",
       "      <td>2</td>\n",
       "      <td>Monday</td>\n",
       "      <td>7</td>\n",
       "    </tr>\n",
       "    <tr>\n",
       "      <th>72528</th>\n",
       "      <td>72528</td>\n",
       "      <td>923298</td>\n",
       "      <td>psa</td>\n",
       "      <td>False</td>\n",
       "      <td>54</td>\n",
       "      <td>Saturday</td>\n",
       "      <td>17</td>\n",
       "    </tr>\n",
       "    <tr>\n",
       "      <th>512269</th>\n",
       "      <td>512269</td>\n",
       "      <td>904742</td>\n",
       "      <td>psa</td>\n",
       "      <td>False</td>\n",
       "      <td>2</td>\n",
       "      <td>Thursday</td>\n",
       "      <td>13</td>\n",
       "    </tr>\n",
       "    <tr>\n",
       "      <th>...</th>\n",
       "      <td>...</td>\n",
       "      <td>...</td>\n",
       "      <td>...</td>\n",
       "      <td>...</td>\n",
       "      <td>...</td>\n",
       "      <td>...</td>\n",
       "      <td>...</td>\n",
       "    </tr>\n",
       "    <tr>\n",
       "      <th>334332</th>\n",
       "      <td>334332</td>\n",
       "      <td>1484523</td>\n",
       "      <td>ad</td>\n",
       "      <td>False</td>\n",
       "      <td>3</td>\n",
       "      <td>Friday</td>\n",
       "      <td>11</td>\n",
       "    </tr>\n",
       "    <tr>\n",
       "      <th>200429</th>\n",
       "      <td>200429</td>\n",
       "      <td>1650565</td>\n",
       "      <td>ad</td>\n",
       "      <td>False</td>\n",
       "      <td>29</td>\n",
       "      <td>Wednesday</td>\n",
       "      <td>19</td>\n",
       "    </tr>\n",
       "    <tr>\n",
       "      <th>526897</th>\n",
       "      <td>526897</td>\n",
       "      <td>1042502</td>\n",
       "      <td>ad</td>\n",
       "      <td>False</td>\n",
       "      <td>33</td>\n",
       "      <td>Monday</td>\n",
       "      <td>10</td>\n",
       "    </tr>\n",
       "    <tr>\n",
       "      <th>422945</th>\n",
       "      <td>422945</td>\n",
       "      <td>1083716</td>\n",
       "      <td>ad</td>\n",
       "      <td>False</td>\n",
       "      <td>9</td>\n",
       "      <td>Thursday</td>\n",
       "      <td>22</td>\n",
       "    </tr>\n",
       "    <tr>\n",
       "      <th>151524</th>\n",
       "      <td>151524</td>\n",
       "      <td>1543208</td>\n",
       "      <td>ad</td>\n",
       "      <td>False</td>\n",
       "      <td>12</td>\n",
       "      <td>Friday</td>\n",
       "      <td>21</td>\n",
       "    </tr>\n",
       "  </tbody>\n",
       "</table>\n",
       "<p>10636 rows × 7 columns</p>\n",
       "</div>"
      ]
     },
     "execution_count": 11,
     "metadata": {},
     "output_type": "execute_result"
    }
   ],
   "execution_count": 11
  },
  {
   "metadata": {
    "ExecuteTime": {
     "end_time": "2024-12-21T23:21:44.529622Z",
     "start_time": "2024-12-21T23:21:44.522103Z"
    }
   },
   "cell_type": "code",
   "source": [
    "data_ = sample.groupby(['test group'], observed=False).agg({\n",
    "    'user id':'count',\n",
    "    'converted':'sum',\n",
    "    'total ads':'sum'\n",
    "}).reset_index().rename(columns={'user id': 'users_count'})\n",
    "data_['mean_ads']=data_['total ads']/data_['users_count']\n",
    "data_['mean_ads']=data_['mean_ads'].round(2)\n",
    "\n",
    "data_['conversion']=data_['converted']*100/data_['users_count']\n",
    "data_['conversion']=data_['conversion'].round(2)\n",
    "data_"
   ],
   "id": "5b5571936ef09f16",
   "outputs": [
    {
     "data": {
      "text/plain": [
       "  test group  users_count  converted  total ads  mean_ads  conversion\n",
       "0         ad         5318        139     130345     24.51        2.61\n",
       "1        psa         5318         98     137833     25.92        1.84"
      ],
      "text/html": [
       "<div>\n",
       "<style scoped>\n",
       "    .dataframe tbody tr th:only-of-type {\n",
       "        vertical-align: middle;\n",
       "    }\n",
       "\n",
       "    .dataframe tbody tr th {\n",
       "        vertical-align: top;\n",
       "    }\n",
       "\n",
       "    .dataframe thead th {\n",
       "        text-align: right;\n",
       "    }\n",
       "</style>\n",
       "<table border=\"1\" class=\"dataframe\">\n",
       "  <thead>\n",
       "    <tr style=\"text-align: right;\">\n",
       "      <th></th>\n",
       "      <th>test group</th>\n",
       "      <th>users_count</th>\n",
       "      <th>converted</th>\n",
       "      <th>total ads</th>\n",
       "      <th>mean_ads</th>\n",
       "      <th>conversion</th>\n",
       "    </tr>\n",
       "  </thead>\n",
       "  <tbody>\n",
       "    <tr>\n",
       "      <th>0</th>\n",
       "      <td>ad</td>\n",
       "      <td>5318</td>\n",
       "      <td>139</td>\n",
       "      <td>130345</td>\n",
       "      <td>24.51</td>\n",
       "      <td>2.61</td>\n",
       "    </tr>\n",
       "    <tr>\n",
       "      <th>1</th>\n",
       "      <td>psa</td>\n",
       "      <td>5318</td>\n",
       "      <td>98</td>\n",
       "      <td>137833</td>\n",
       "      <td>25.92</td>\n",
       "      <td>1.84</td>\n",
       "    </tr>\n",
       "  </tbody>\n",
       "</table>\n",
       "</div>"
      ]
     },
     "execution_count": 12,
     "metadata": {},
     "output_type": "execute_result"
    }
   ],
   "execution_count": 12
  },
  {
   "metadata": {
    "ExecuteTime": {
     "end_time": "2024-12-21T23:21:44.534653Z",
     "start_time": "2024-12-21T23:21:44.530409Z"
    }
   },
   "cell_type": "code",
   "source": [
    "count_conversions_ad=data_[data_['test group']=='ad']['converted'].sum()\n",
    "count_conversions_psa=data_[data_['test group']=='psa']['converted'].sum()\n",
    "\n",
    "total_ads_ad=data_[data_['test group']=='ad']['total ads'].sum()\n",
    "total_ads_psa=data_[data_['test group']=='psa']['total ads'].sum()\n",
    "\n",
    "total_observations_ad=data_[data_['test group']=='ad']['users_count'].sum()\n",
    "total_observations_psa=data_[data_['test group']=='psa']['users_count'].sum()\n",
    "\n",
    "count_purchase = [count_conversions_ad, count_conversions_psa]\n",
    "count_ads=[total_ads_ad, total_ads_psa]  \n",
    "count_observation = [total_observations_ad, total_observations_psa] \n",
    "z_stat, p_value = proportions_ztest(count_purchase, count_observation)\n",
    "\n",
    "print(f'Z-статистика: {z_stat:.2f}')\n",
    "print(f'p-value: {p_value:.4f}')"
   ],
   "id": "346ce96bd09ba4dd",
   "outputs": [
    {
     "name": "stdout",
     "output_type": "stream",
     "text": [
      "Z-статистика: 2.69\n",
      "p-value: 0.0071\n"
     ]
    }
   ],
   "execution_count": 13
  },
  {
   "metadata": {},
   "cell_type": "markdown",
   "source": [
    "#### Вывод\n",
    "Полученное значение p-value меньше уровня значимости 0.05, поэтому мы отвергаем нулевую гипотезу о равенстве конверсий пользователей в группах \"ad\" и \"psa\". Таким образом, можно сделать вывод о том, что реклама более эффективна, чем объявления государственной службы в плане конверсии пользователей в покупателей."
   ],
   "id": "1cd70ea72fc2de7d"
  },
  {
   "metadata": {},
   "cell_type": "markdown",
   "source": [
    "**Нулевая гипотеза (H0)**: Среднее количество рекламы, увиденной пользователем, не отличается в группах \"ad\" и \"psa\".\n",
    "\n",
    "**Альтернативная гипотеза (H1)**: Среднее количество рекламы, увиденной пользователем, отличается в группах \"ad\" и \"psa\"."
   ],
   "id": "db354cb9a410b90d"
  },
  {
   "metadata": {
    "ExecuteTime": {
     "end_time": "2024-12-21T23:21:44.539695Z",
     "start_time": "2024-12-21T23:21:44.535342Z"
    }
   },
   "cell_type": "code",
   "source": [
    "# Проверим данные на нормальность с помощью критерия Шапиро-Уилка\n",
    "\n",
    "alpha = 0.05\n",
    "\n",
    "shapiro_result_a = shapiro(data_[data_['test group']=='ad']['total ads'])\n",
    "shapiro_result_b = shapiro(data_[data_['test group']=='psa']['total ads'])\n",
    "\n",
    "print('p-value для группы ad:', shapiro_result_a.pvalue)\n",
    "print('p-value для группы psa:', shapiro_result_b.pvalue)\n",
    "\n",
    "\n",
    "\n",
    "\n",
    "\n",
    "\n",
    "# Используем U-статистику Манна-Уитни для проверки гипотезы о равенстве средних двух групп\n",
    "\n",
    "alpha = 0.05\n",
    "\n",
    "results = mannwhitneyu(\n",
    "    x=data_[data_['test group']=='ad']['users_count'].sum(),\n",
    "    y=data_[data_['test group']=='psa']['users_count'].sum(),\n",
    "    alternative='two-sided'\n",
    ")\n",
    "print('p-value:', round(results.pvalue, 2))"
   ],
   "id": "bfb1501ea2886c6f",
   "outputs": [
    {
     "name": "stdout",
     "output_type": "stream",
     "text": [
      "p-value для группы ad: nan\n",
      "p-value для группы psa: nan\n",
      "p-value: 1.0\n"
     ]
    },
    {
     "name": "stderr",
     "output_type": "stream",
     "text": [
      "/var/folders/v8/yvjcp58143j87hsd8xmzy54w0000gn/T/ipykernel_89905/1794627864.py:5: SmallSampleWarning: One or more sample arguments is too small; all returned values will be NaN. See documentation for sample size requirements.\n",
      "  shapiro_result_a = shapiro(data_[data_['test group']=='ad']['total ads'])\n",
      "/var/folders/v8/yvjcp58143j87hsd8xmzy54w0000gn/T/ipykernel_89905/1794627864.py:6: SmallSampleWarning: One or more sample arguments is too small; all returned values will be NaN. See documentation for sample size requirements.\n",
      "  shapiro_result_b = shapiro(data_[data_['test group']=='psa']['total ads'])\n"
     ]
    }
   ],
   "execution_count": 14
  },
  {
   "metadata": {},
   "cell_type": "markdown",
   "source": [
    "#### Вывод\n",
    "Полученное значение p-value = 1 и больше уровня значимости 0.05, поэтому мы не можем отвергнуть нулевую гипотезу о равенстве средних количеств рекламы, увиденной пользователем, в группах \"ad\" и \"psa\". Таким образом, можно сделать вывод о том, что среднее количество рекламы, увиденной пользователем, не отличается в группах \"ad\" и \"psa\". Так же p-value при проверке на нормальность у групп ad и psa слишком мало (nan), что говорит о том, что данные не распределены нормально."
   ],
   "id": "d1c91338ad3b8cf5"
  },
  {
   "metadata": {},
   "cell_type": "markdown",
   "source": [
    "Подкрепите результаты статистических тестов, построив 95 % доверительные интервалы для:\n",
    "\n",
    "- конверсий в каждой из групп;\n",
    "- разницы конверсий в группах;\n",
    "- среднего количества увиденной рекламы в группах А и B.\n",
    "\n",
    "Проинтерпретируйте построенные доверительные интервалы для конверсий и среднего количества увиденной рекламы группах. Есть ли перекрытие между доверительными интервалами для групп? Если есть, то о чём это говорит?"
   ],
   "id": "8975f30fff0ddc0c"
  },
  {
   "metadata": {
    "ExecuteTime": {
     "end_time": "2024-12-21T23:22:47.018058Z",
     "start_time": "2024-12-21T23:22:47.003744Z"
    }
   },
   "cell_type": "code",
   "source": [
    "# Расчет доверительных интервалов для конверсий в каждой из групп\n",
    "\n",
    "# Разделим данные по группам\n",
    "data_psa = data[data['test group']=='psa']\n",
    "data_ad = data[data['test group']=='ad']\n",
    "\n",
    "# Функция по расчету доверительного интервала для конверсии в группе\n",
    "def calculate_conf_interval(x, n):\n",
    "    alpha=0.05\n",
    "    z = - norm.ppf(alpha / 2)\n",
    "    eps = z * (x * (1 - x) / n) ** 0.5\n",
    "    lower_ = x - eps \n",
    "    upper_ = x + eps \n",
    "    return lower_, upper_\n",
    "    \n",
    "# Расчет доверительного интервала конверсии для ad\n",
    "lower_ad, upper_ad = calculate_conf_interval(data_ad['converted'].mean(), data_ad['user id'].count())\n",
    "# Расчет доверительного интервала конверсии для psa\n",
    "lower_psa, upper_psa = calculate_conf_interval(data_psa['converted'].mean(), data_psa['user id'].count())\n",
    "\n",
    "print(f'Доверительный интервал для ad: [{lower_ad*100:.2f}, {upper_ad*100:.2f}]')\n",
    "print(f'Доверительный интервал для psa: [{lower_psa*100:.2f}, {upper_psa*100:.2f}]')\n",
    "\n"
   ],
   "id": "c0f35f2ca9442dd2",
   "outputs": [
    {
     "name": "stdout",
     "output_type": "stream",
     "text": [
      "Доверительный интервал для ad: [2.51, 2.60]\n",
      "Доверительный интервал для psa: [1.62, 1.95]\n"
     ]
    }
   ],
   "execution_count": 16
  },
  {
   "metadata": {},
   "cell_type": "markdown",
   "source": "Вывод: доверительные интервалы у конверсий в разных группах друг с другом не пересекаются, следовательно, конверсия в обеих группах не может совпадать.",
   "id": "d20416bbf1c17f92"
  },
  {
   "metadata": {
    "ExecuteTime": {
     "end_time": "2024-12-21T23:34:14.650111Z",
     "start_time": "2024-12-21T23:34:14.644921Z"
    }
   },
   "cell_type": "code",
   "source": [
    "# Расчет доверительного интервала для разницы конверсий в группах\n",
    "def calculate_conf_interval_diff(x1, n1, x2, n2):\n",
    "    alpha=0.05\n",
    "    z = - norm.ppf(alpha / 2)\n",
    "    eps = z * ((x1 * (1 - x1) / n1 + x2 * (1 - x2) / n2) ** 0.5)\n",
    "    lower_ = (x2 - x1) - eps\n",
    "    upper_ = (x2 - x1) + eps\n",
    "    return lower_, upper_\n",
    "\n",
    "\n",
    "# Расчет доверительного интервала для разницы конверсий в группах\n",
    "lower_diff, upper_diff = calculate_conf_interval_diff(data_ad['converted'].mean(), data_ad['user id'].count(), data_psa['converted'].mean(), data_psa['user id'].count())\n",
    "\n",
    "print(f'Доверительный интервал для разницы конверсий в группах: [{lower_diff*100:.2f}, {upper_diff*100:.2f}]')"
   ],
   "id": "243d4a7181ee0173",
   "outputs": [
    {
     "name": "stdout",
     "output_type": "stream",
     "text": [
      "Доверительный интервал для разницы конверсий в группах: [-0.94, -0.60]\n"
     ]
    }
   ],
   "execution_count": 19
  },
  {
   "metadata": {},
   "cell_type": "markdown",
   "source": "Вывод: доверительный интервал для разницы конверсий отрицательный, что говорит о том, что конверсия в группе ad выше, чем в группе psa.",
   "id": "8fc122384f162ea0"
  },
  {
   "metadata": {
    "ExecuteTime": {
     "end_time": "2024-12-21T23:38:50.824042Z",
     "start_time": "2024-12-21T23:38:50.814531Z"
    }
   },
   "cell_type": "code",
   "source": [
    "# Расчет доверительного интервала для среднего количества рекламы, увиденной пользователем\n",
    "\n",
    "def calculate_conf_interval_mean(x_mean, x_std, n):\n",
    "    alpha=0.05\n",
    "    k = n - 1\n",
    "    t_crit = -t.ppf(alpha/2, k)\n",
    "    eps = t_crit * x_std/(n ** 0.5) \n",
    "    lower_ = x_mean - eps\n",
    "    upper_ = x_mean + eps\n",
    "    return lower_, upper_\n",
    "\n",
    "# Расчет доверительного интервала для среднего количества рекламы, увиденной пользователем в группе ad\n",
    "lower_ad, upper_ad = calculate_conf_interval_mean(data_ad['total ads'].mean(), data_ad['total ads'].std(), data_ad['user id'].count())\n",
    "# Расчет доверительного интервала для среднего количества рекламы, увиденной пользователем в группе psa\n",
    "lower_psa, upper_psa = calculate_conf_interval_mean(data_psa['total ads'].mean(), data_psa['total ads'].std(), data_psa['user id'].count())\n",
    "\n",
    "print(f'Доверительный интервал для ad: [{lower_ad:.2f}, {upper_ad:.2f}]')\n",
    "print(f'Доверительный интервал для psa: [{lower_psa:.2f}, {upper_psa:.2f}]')\n"
   ],
   "id": "77a510632e97a0f5",
   "outputs": [
    {
     "name": "stdout",
     "output_type": "stream",
     "text": [
      "Доверительный интервал для ad: [24.71, 24.94]\n",
      "Доверительный интервал для psa: [24.21, 25.31]\n"
     ]
    }
   ],
   "execution_count": 21
  },
  {
   "metadata": {},
   "cell_type": "markdown",
   "source": [
    "Вывод: доверительные интервалы у среднего количества рекламы, увиденной пользователем, в разных группах друг с другом пересекаются, следовательно, среднее количество рекламы, увиденной пользователем, в обеих группах может совпадать.\n",
    "\n",
    "Заключение: построенные доверительные интервалы подтверждают результаты статистических тестов. Конверсия в группе ad выше, чем в группе psa, следовательно, реклама более эффективна, чем объявления государственной службы"
   ],
   "id": "38d116e6a116cc00"
  }
 ],
 "metadata": {
  "kernelspec": {
   "display_name": "Python 3",
   "language": "python",
   "name": "python3"
  },
  "language_info": {
   "codemirror_mode": {
    "name": "ipython",
    "version": 2
   },
   "file_extension": ".py",
   "mimetype": "text/x-python",
   "name": "python",
   "nbconvert_exporter": "python",
   "pygments_lexer": "ipython2",
   "version": "2.7.6"
  }
 },
 "nbformat": 4,
 "nbformat_minor": 5
}
